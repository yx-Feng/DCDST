{
 "cells": [
  {
   "cell_type": "code",
   "execution_count": 7,
   "metadata": {},
   "outputs": [],
   "source": [
    "import pandas as pd\n",
    "from tqdm import tqdm"
   ]
  },
  {
   "cell_type": "code",
   "execution_count": 8,
   "metadata": {},
   "outputs": [],
   "source": [
    "def generate_user_edges(csv_path, output_path):\n",
    "    # 加载训练数据\n",
    "    train_df = pd.read_csv(csv_path)\n",
    "\n",
    "    # 确保数据按用户和轨迹分组，并按时间排序\n",
    "    train_df = train_df.sort_values([\"user_id\", \"trajectory_id\", \"UTC_time\"])\n",
    "\n",
    "    # 初始化用户边字典\n",
    "    user_edges = {\"user_id\": [], \"item_edges_a\": [], \"item_edges_b\": []}\n",
    "\n",
    "    # 按 user_id 和 trajectory_id 分组处理\n",
    "    grouped = train_df.groupby([\"user_id\", \"trajectory_id\"])\n",
    "\n",
    "    for (user_id, traj_id), traj_group in tqdm(grouped, desc=\"Processing user trajectories\"):\n",
    "        # 提取当前轨迹的 POI 序列\n",
    "        pois = traj_group[\"POI_id\"].tolist()\n",
    "\n",
    "        # 生成共现边 (A,B), (B,C), ...\n",
    "        edges_a = pois[:-1]  # 起点列表\n",
    "        edges_b = pois[1:]   # 终点列表\n",
    "\n",
    "        # 保存到字典\n",
    "        user_edges[\"user_id\"].append(user_id)\n",
    "        user_edges[\"item_edges_a\"].append(edges_a)\n",
    "        user_edges[\"item_edges_b\"].append(edges_b)\n",
    "\n",
    "    # 转换为 DataFrame\n",
    "    user_edges_df = pd.DataFrame(user_edges)\n",
    "\n",
    "    # 按 user_id 聚合所有轨迹的边\n",
    "    user_edges_agg = user_edges_df.groupby(\"user_id\").agg({\n",
    "        \"item_edges_a\": lambda x: [item for sublist in x for item in sublist],\n",
    "        \"item_edges_b\": lambda x: [item for sublist in x for item in sublist]\n",
    "    }).reset_index()\n",
    "\n",
    "    # 保存为 CSV 文件（列表存储为逗号分隔字符串）\n",
    "    user_edges_agg[\"item_edges_a\"] = user_edges_agg[\"item_edges_a\"].apply(lambda x: \",\".join(map(str, x)))\n",
    "    user_edges_agg[\"item_edges_b\"] = user_edges_agg[\"item_edges_b\"].apply(lambda x: \",\".join(map(str, x)))\n",
    "    user_edges_agg.to_csv(output_path, index=False)"
   ]
  },
  {
   "cell_type": "code",
   "execution_count": 7,
   "metadata": {},
   "outputs": [
    {
     "name": "stderr",
     "output_type": "stream",
     "text": [
      "Processing user trajectories: 100%|██████████| 65651/65651 [00:02<00:00, 25702.34it/s]\n"
     ]
    }
   ],
   "source": [
    "generate_user_edges('./gowalla/gowalla-ca_train.csv', './gowalla/user_edges.csv')"
   ]
  },
  {
   "cell_type": "code",
   "execution_count": 8,
   "metadata": {},
   "outputs": [
    {
     "name": "stderr",
     "output_type": "stream",
     "text": [
      "Processing user trajectories: 100%|██████████| 26589/26589 [00:01<00:00, 24846.84it/s]\n",
      "Processing user trajectories: 100%|██████████| 72584/72584 [00:02<00:00, 25774.71it/s]\n"
     ]
    }
   ],
   "source": [
    "generate_user_edges('./foursquare/nyc/nyc_train.csv', './foursquare/nyc/user_edges.csv')\n",
    "generate_user_edges('./foursquare/tky/tky_train.csv', './foursquare/tky/user_edges.csv')"
   ]
  },
  {
   "cell_type": "code",
   "execution_count": 6,
   "metadata": {},
   "outputs": [
    {
     "name": "stderr",
     "output_type": "stream",
     "text": [
      "Processing user trajectories: 100%|██████████| 4719/4719 [00:00<00:00, 5787.60it/s]\n",
      "Processing user trajectories: 100%|██████████| 8367/8367 [00:00<00:00, 13617.61it/s]\n",
      "Processing user trajectories: 100%|██████████| 11011/11011 [00:00<00:00, 12636.74it/s]\n"
     ]
    }
   ],
   "source": [
    "generate_user_edges('./long-tail/foursquare/nyc/nyc_train_longtail.csv', './long-tail/foursquare/nyc/user_edges_longtail.csv')\n",
    "generate_user_edges('./long-tail/foursquare/tky/tky_train_longtail.csv', './long-tail/foursquare/tky/user_edges_longtail.csv')"
   ]
  },
  {
   "cell_type": "code",
   "execution_count": 9,
   "metadata": {},
   "outputs": [
    {
     "name": "stderr",
     "output_type": "stream",
     "text": [
      "Processing user trajectories: 100%|██████████| 11011/11011 [00:00<00:00, 13435.74it/s]\n"
     ]
    }
   ],
   "source": [
    "generate_user_edges('./long-tail/gowalla/gowalla-ca_train_longtail.csv', './long-tail/gowalla/user_edges_longtail.csv')"
   ]
  },
  {
   "cell_type": "code",
   "execution_count": null,
   "metadata": {},
   "outputs": [],
   "source": []
  }
 ],
 "metadata": {
  "kernelspec": {
   "display_name": "Python 3 (ipykernel)",
   "language": "python",
   "name": "python3"
  },
  "language_info": {
   "codemirror_mode": {
    "name": "ipython",
    "version": 3
   },
   "file_extension": ".py",
   "mimetype": "text/x-python",
   "name": "python",
   "nbconvert_exporter": "python",
   "pygments_lexer": "ipython3",
   "version": "3.11.10"
  }
 },
 "nbformat": 4,
 "nbformat_minor": 4
}
