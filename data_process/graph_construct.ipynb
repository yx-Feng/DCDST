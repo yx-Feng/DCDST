{
 "cells": [
  {
   "cell_type": "code",
   "execution_count": 16,
   "metadata": {},
   "outputs": [],
   "source": [
    "import os\n",
    "import pickle\n",
    "import networkx as nx\n",
    "import numpy as np\n",
    "import pandas as pd\n",
    "from tqdm import tqdm\n",
    "import math"
   ]
  },
  {
   "cell_type": "code",
   "execution_count": 17,
   "metadata": {},
   "outputs": [],
   "source": [
    "# 从包含POI签到数据的DataFrame中构建一个有向图\n",
    "def build_global_POI_checkin_graph(df, exclude_user=None):\n",
    "    G = nx.DiGraph()\n",
    "    users = list(set(df['user_id'].to_list()))\n",
    "    if exclude_user in users: users.remove(exclude_user)\n",
    "    loop = tqdm(users)\n",
    "    for user_id in loop:\n",
    "        user_df = df[df['user_id'] == user_id]\n",
    "        # 对于每个用户，遍历其签到数据\n",
    "        # 如果POI节点尚不存在，则为其添加一个节点，节点的属性包括签到次数、位置等。\n",
    "        for i, row in user_df.iterrows():\n",
    "            node = row['POI_id']\n",
    "            if node not in G.nodes():\n",
    "                G.add_node(row['POI_id'],checkin_cnt=1,latitude=row['latitude'], longitude=row['longitude'])\n",
    "            else:\n",
    "                G.nodes[node]['checkin_cnt'] += 1\n",
    "\n",
    "        # Add edges (Check-in seq)\n",
    "        previous_poi_id = 0\n",
    "        previous_traj_id = 0\n",
    "        for i, row in user_df.iterrows():\n",
    "            poi_id = row['POI_id']\n",
    "            traj_id = row['trajectory_id']\n",
    "            # No edge for the begin of the seq or different traj\n",
    "            if (previous_poi_id == 0) or (previous_traj_id != traj_id):\n",
    "                previous_poi_id = poi_id\n",
    "                previous_traj_id = traj_id\n",
    "                continue\n",
    "            # 对于每个用户的轨迹，添加连续POI之间的边。边的权重表示用户在两个POI之间过渡的频率。\n",
    "            if G.has_edge(previous_poi_id, poi_id):\n",
    "                G.edges[previous_poi_id, poi_id]['weight'] += 1\n",
    "            else:  # Add new edge\n",
    "                G.add_edge(previous_poi_id, poi_id, weight=1)\n",
    "            previous_traj_id = traj_id\n",
    "            previous_poi_id = poi_id\n",
    "\n",
    "    return G"
   ]
  },
  {
   "cell_type": "code",
   "execution_count": 18,
   "metadata": {},
   "outputs": [],
   "source": [
    "# 将图G保存为两个CSV文件\n",
    "def save_graph_to_csv(G, dst_dir):\n",
    "    # 保存邻接矩阵graph_A.csv\n",
    "    nodelist = G.nodes()\n",
    "    A = nx.adjacency_matrix(G, nodelist=nodelist)\n",
    "    np.savetxt(os.path.join(dst_dir, 'graph_A.csv'), A.todense(), delimiter=',')\n",
    "\n",
    "    # 保存节点列表graph_X.csv\n",
    "    nodes_data = list(G.nodes.data())  # [(node_name, {attr1, attr2}),...]\n",
    "    with open(os.path.join(dst_dir, 'graph_X.csv'), 'w') as f:\n",
    "        print('node_name/poi_id,checkin_cnt,latitude,longitude', file=f)\n",
    "        for each in nodes_data:\n",
    "            node_name = each[0]\n",
    "            checkin_cnt = each[1]['checkin_cnt']\n",
    "            latitude = each[1]['latitude']\n",
    "            longitude = each[1]['longitude']\n",
    "            print(f'{node_name},{checkin_cnt},{latitude},{longitude}', file=f)"
   ]
  },
  {
   "cell_type": "code",
   "execution_count": 19,
   "metadata": {},
   "outputs": [],
   "source": [
    "# 打印图G的一些基本统计信息\n",
    "def print_graph_statisics(G):\n",
    "    # 节点数和边数\n",
    "    print(f\"Num of nodes: {G.number_of_nodes()}\")\n",
    "    print(f\"Num of edges: {G.number_of_edges()}\")\n",
    "\n",
    "    # 节点度数 (均值和百分位数)\n",
    "    node_degrees = [each[1] for each in G.degree]\n",
    "    print(f\"Node degree (mean): {np.mean(node_degrees):.2f}\")\n",
    "    for i in range(0, 101, 20):\n",
    "        print(f\"Node degree ({i} percentile): {np.percentile(node_degrees, i)}\")\n",
    "\n",
    "    # 边权重 (均值和百分位数)\n",
    "    edge_weights = []\n",
    "    for n, nbrs in G.adj.items():\n",
    "        for nbr, attr in nbrs.items():\n",
    "            weight = attr['weight']\n",
    "            edge_weights.append(weight)\n",
    "    print(f\"Edge frequency (mean): {np.mean(edge_weights):.2f}\")\n",
    "    for i in range(0, 101, 20):\n",
    "        print(f\"Edge frequency ({i} percentile): {np.percentile(edge_weights, i)}\")"
   ]
  },
  {
   "cell_type": "code",
   "execution_count": 20,
   "metadata": {},
   "outputs": [],
   "source": [
    "# 计算两个经纬度之间的距离（单位：千米）\n",
    "def haversine(lat1, lon1, lat2, lon2):\n",
    "    R = 6371 # 地球的平均半径，单位为千米\n",
    "    dLat = (lat2 - lat1) * math.pi / 180.0\n",
    "    dLon = (lon2 - lon1) * math.pi / 180.0\n",
    "    a = math.sin(dLat / 2) * math.sin(dLat / 2) + math.cos(lat1 * math.pi / 180.0) * math.cos(lat2 * math.pi / 180.0) * math.sin(dLon / 2) * math.sin(dLon / 2)\n",
    "    c = 2 * math.atan2(math.sqrt(a), math.sqrt(1 - a))\n",
    "    dist = R * c\n",
    "    return dist"
   ]
  },
  {
   "cell_type": "code",
   "execution_count": 21,
   "metadata": {},
   "outputs": [],
   "source": [
    "# 计算距离图并保存为 CSV 文件\n",
    "def save_distance_graph(G, dst_dir):\n",
    "    nodelist = list(G.nodes())\n",
    "    num_nodes = len(nodelist)\n",
    "    dist_matrix = np.zeros((num_nodes, num_nodes))\n",
    "\n",
    "    for i in range(num_nodes):\n",
    "        node1 = nodelist[i]\n",
    "        lat1 = G.nodes[node1]['latitude']\n",
    "        lon1 = G.nodes[node1]['longitude']\n",
    "        for j in range(num_nodes):\n",
    "            node2 = nodelist[j]\n",
    "            lat2 = G.nodes[node2]['latitude']\n",
    "            lon2 = G.nodes[node2]['longitude']\n",
    "            dist_matrix[i, j] = haversine(lat1, lon1, lat2, lon2)\n",
    "\n",
    "    np.savetxt(os.path.join(dst_dir, 'graph_dist.csv'), dist_matrix, delimiter=',')"
   ]
  },
  {
   "cell_type": "code",
   "execution_count": 7,
   "metadata": {},
   "outputs": [
    {
     "name": "stdout",
     "output_type": "stream",
     "text": [
      "Build global POI checkin graph -----------------------------------\n"
     ]
    },
    {
     "name": "stderr",
     "output_type": "stream",
     "text": [
      "100%|██████████| 5557/5557 [00:19<00:00, 278.45it/s]\n"
     ]
    },
    {
     "name": "stdout",
     "output_type": "stream",
     "text": [
      "Build global POI Distance graph -----------------------------------\n"
     ]
    }
   ],
   "source": [
    "# 数据集gowalla\n",
    "dst_dir = r'./gowalla'\n",
    "# 构建POI签到轨迹图\n",
    "train_df = pd.read_csv(os.path.join(dst_dir, 'gowalla-ca_train.csv'))\n",
    "print('Build global POI checkin graph -----------------------------------')\n",
    "G = build_global_POI_checkin_graph(train_df)\n",
    "save_graph_to_csv(G, dst_dir=dst_dir)\n",
    "print('Build global POI Distance graph -----------------------------------')\n",
    "# 计算并保存距离图\n",
    "save_distance_graph(G, dst_dir=dst_dir)"
   ]
  },
  {
   "cell_type": "code",
   "execution_count": 8,
   "metadata": {},
   "outputs": [
    {
     "data": {
      "text/plain": [
       "(13508, 13508)"
      ]
     },
     "execution_count": 8,
     "metadata": {},
     "output_type": "execute_result"
    }
   ],
   "source": [
    "gowalla_df = pd.read_csv('./gowalla/graph_A.csv', delimiter=',', header=None)  # 读取文件\n",
    "gowalla_df.shape"
   ]
  },
  {
   "cell_type": "code",
   "execution_count": 19,
   "metadata": {},
   "outputs": [
    {
     "name": "stdout",
     "output_type": "stream",
     "text": [
      "Build global POI checkin graph -----------------------------------\n"
     ]
    },
    {
     "name": "stderr",
     "output_type": "stream",
     "text": [
      "100%|██████████| 1072/1072 [00:07<00:00, 139.30it/s]\n"
     ]
    },
    {
     "name": "stdout",
     "output_type": "stream",
     "text": [
      "Build global POI Distance graph -----------------------------------\n"
     ]
    }
   ],
   "source": [
    "# 数据集foursquare_nyc\n",
    "dst_dir = r'./foursquare/nyc'\n",
    "# 构建POI签到轨迹图\n",
    "train_df = pd.read_csv(os.path.join(dst_dir, 'nyc_train.csv'))\n",
    "print('Build global POI checkin graph -----------------------------------')\n",
    "G = build_global_POI_checkin_graph(train_df)\n",
    "save_graph_to_csv(G, dst_dir=dst_dir)\n",
    "print('Build global POI Distance graph -----------------------------------')\n",
    "# 计算并保存距离图\n",
    "save_distance_graph(G, dst_dir)"
   ]
  },
  {
   "cell_type": "code",
   "execution_count": 20,
   "metadata": {},
   "outputs": [
    {
     "data": {
      "text/plain": [
       "(5051, 5051)"
      ]
     },
     "execution_count": 20,
     "metadata": {},
     "output_type": "execute_result"
    }
   ],
   "source": [
    "nyc_df = pd.read_csv('./foursquare/nyc/graph_A.csv', delimiter=',', header=None)  # 读取文件\n",
    "nyc_df.shape"
   ]
  },
  {
   "cell_type": "code",
   "execution_count": 21,
   "metadata": {},
   "outputs": [
    {
     "name": "stdout",
     "output_type": "stream",
     "text": [
      "Build global POI checkin graph -----------------------------------\n"
     ]
    },
    {
     "name": "stderr",
     "output_type": "stream",
     "text": [
      "100%|██████████| 2281/2281 [00:24<00:00, 92.97it/s] \n"
     ]
    },
    {
     "name": "stdout",
     "output_type": "stream",
     "text": [
      "Build global POI Distance graph -----------------------------------\n"
     ]
    }
   ],
   "source": [
    "# 数据集foursquare_tky\n",
    "dst_dir = r'./foursquare/tky'\n",
    "# 构建POI签到轨迹图\n",
    "train_df = pd.read_csv(os.path.join(dst_dir, 'tky_train.csv'))\n",
    "print('Build global POI checkin graph -----------------------------------')\n",
    "G = build_global_POI_checkin_graph(train_df)\n",
    "save_graph_to_csv(G, dst_dir=dst_dir)\n",
    "print('Build global POI Distance graph -----------------------------------')\n",
    "# 计算并保存距离图\n",
    "save_distance_graph(G, dst_dir)"
   ]
  },
  {
   "cell_type": "code",
   "execution_count": 22,
   "metadata": {},
   "outputs": [
    {
     "data": {
      "text/plain": [
       "(7831, 7831)"
      ]
     },
     "execution_count": 22,
     "metadata": {},
     "output_type": "execute_result"
    }
   ],
   "source": [
    "tky_df = pd.read_csv('./foursquare/tky/graph_A.csv', delimiter=',', header=None)  # 读取文件\n",
    "tky_df.shape"
   ]
  },
  {
   "cell_type": "code",
   "execution_count": 15,
   "metadata": {},
   "outputs": [
    {
     "name": "stdout",
     "output_type": "stream",
     "text": [
      "Build global POI checkin graph -----------------------------------\n"
     ]
    },
    {
     "name": "stderr",
     "output_type": "stream",
     "text": [
      "100%|██████████| 1898/1898 [00:13<00:00, 139.65it/s]\n"
     ]
    },
    {
     "name": "stdout",
     "output_type": "stream",
     "text": [
      "Build global POI Distance graph -----------------------------------\n",
      "Build global POI checkin graph -----------------------------------\n"
     ]
    },
    {
     "name": "stderr",
     "output_type": "stream",
     "text": [
      "100%|██████████| 959/959 [00:05<00:00, 171.29it/s]\n"
     ]
    },
    {
     "name": "stdout",
     "output_type": "stream",
     "text": [
      "Build global POI Distance graph -----------------------------------\n",
      "Build global POI checkin graph -----------------------------------\n"
     ]
    },
    {
     "name": "stderr",
     "output_type": "stream",
     "text": [
      "100%|██████████| 3675/3675 [00:17<00:00, 207.88it/s]\n"
     ]
    },
    {
     "name": "stdout",
     "output_type": "stream",
     "text": [
      "Build global POI Distance graph -----------------------------------\n"
     ]
    }
   ],
   "source": [
    "# 数据集foursquare_tky\n",
    "dst_dir = r'./long-tail/foursquare/tky'\n",
    "# 构建POI签到轨迹图\n",
    "train_df = pd.read_csv(os.path.join(dst_dir, 'tky_train_longtail.csv'))\n",
    "print('Build global POI checkin graph -----------------------------------')\n",
    "G = build_global_POI_checkin_graph(train_df)\n",
    "save_graph_to_csv(G, dst_dir=dst_dir)\n",
    "print('Build global POI Distance graph -----------------------------------')\n",
    "# 计算并保存距离图\n",
    "save_distance_graph(G, dst_dir)\n",
    "\n",
    "# 数据集foursquare_nyc\n",
    "dst_dir = r'./long-tail/foursquare/nyc'\n",
    "# 构建POI签到轨迹图\n",
    "train_df = pd.read_csv(os.path.join(dst_dir, 'nyc_train_longtail.csv'))\n",
    "print('Build global POI checkin graph -----------------------------------')\n",
    "G = build_global_POI_checkin_graph(train_df)\n",
    "save_graph_to_csv(G, dst_dir=dst_dir)\n",
    "print('Build global POI Distance graph -----------------------------------')\n",
    "# 计算并保存距离图\n",
    "save_distance_graph(G, dst_dir)"
   ]
  },
  {
   "cell_type": "code",
   "execution_count": 22,
   "metadata": {},
   "outputs": [
    {
     "name": "stdout",
     "output_type": "stream",
     "text": [
      "Build global POI checkin graph -----------------------------------\n"
     ]
    },
    {
     "name": "stderr",
     "output_type": "stream",
     "text": [
      "100%|██████████| 3675/3675 [00:17<00:00, 216.17it/s]\n"
     ]
    },
    {
     "name": "stdout",
     "output_type": "stream",
     "text": [
      "Build global POI Distance graph -----------------------------------\n"
     ]
    }
   ],
   "source": [
    "# 数据集gowalla\n",
    "dst_dir = r'./long-tail/gowalla'\n",
    "# 构建POI签到轨迹图\n",
    "train_df = pd.read_csv(os.path.join(dst_dir, 'gowalla-ca_train_longtail.csv'))\n",
    "print('Build global POI checkin graph -----------------------------------')\n",
    "G = build_global_POI_checkin_graph(train_df)\n",
    "save_graph_to_csv(G, dst_dir=dst_dir)\n",
    "print('Build global POI Distance graph -----------------------------------')\n",
    "# 计算并保存距离图\n",
    "save_distance_graph(G, dst_dir=dst_dir)"
   ]
  },
  {
   "cell_type": "code",
   "execution_count": null,
   "metadata": {},
   "outputs": [],
   "source": []
  }
 ],
 "metadata": {
  "kernelspec": {
   "display_name": "Python 3 (ipykernel)",
   "language": "python",
   "name": "python3"
  },
  "language_info": {
   "codemirror_mode": {
    "name": "ipython",
    "version": 3
   },
   "file_extension": ".py",
   "mimetype": "text/x-python",
   "name": "python",
   "nbconvert_exporter": "python",
   "pygments_lexer": "ipython3",
   "version": "3.11.10"
  }
 },
 "nbformat": 4,
 "nbformat_minor": 4
}
